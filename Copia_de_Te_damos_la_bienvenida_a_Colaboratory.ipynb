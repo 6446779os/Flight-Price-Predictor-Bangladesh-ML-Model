import pandas as pd
import matplotlib.pyplot as plt
import seaborn as sns

class DistribucionPorcentajes:
    def __init__(self, archivo_csv):
        """
        Inicializar el análisis de distribución de porcentajes

        Parámetros:
        -----------
        archivo_csv : str
            Ruta del archivo CSV a analizar
        """
        try:
            self.df = pd.read_csv(archivo_csv)
            print("✅ Datos cargados exitosamente")
        except FileNotFoundError:
            print("❌ Archivo no encontrado")
            self.df = None

    def porcentajes_categoricos(self, columna, top_n=10):
        """
        Analizar porcentajes de una variable categórica

        Parámetros:
        -----------
        columna : str
            Nombre de la columna a analizar
        top_n : int, opcional
            Número de categorías top a mostrar
        """
        if self.df is None:
            return

        # Calcular porcentajes
        conteo = self.df[columna].value_counts()
        porcentajes = (conteo / len(self.df)) * 100

        # Seleccionar top N
        top_porcentajes = porcentajes.head(top_n)

        # Gráfico de pastel
        plt.figure(figsize=(12, 8))
        plt.pie(top_porcentajes,
                labels=[f'{cat}\n{porc:.2f}%' for cat, porc in top_porcentajes.items()],
                autopct='%1.1f%%')
        plt.title(f'Distribución Porcentual de {columna}')
        plt.tight_layout()
        plt.show()

        # Imprimir porcentajes detallados
        print(f"\n📊 Análisis Porcentual para {columna}:")
        print("\nPorcentajes Detallados:")
        for categoria, porcentaje in top_porcentajes.items():
            print(f"{categoria}: {porcentaje:.2f}%")

        # Información adicional
        print(f"\nTotal de categorías únicas: {len(conteo)}")
        print(f"Categoría más común: {conteo.index[0]} ({porcentajes.iloc[0]:.2f}%)")
        print(f"Categoría menos común: {conteo.index[-1]} ({porcentajes.iloc[-1]:.2f}%)")

    def resumen_porcentual_general(self):
        """
        Generar un resumen porcentual de todas las columnas categóricas
        """
        if self.df is None:
            return

        # Identificar columnas categóricas
        categoricas = self.df.select_dtypes(include=['object']).columns

        print("\n🔍 Resumen Porcentual General:")
        for columna in categoricas:
            print(f"\n--- {columna} ---")
            conteo = self.df[columna].value_counts()
            porcentajes = (conteo / len(self.df)) * 100

            # Mostrar top 5 categorías
            for categoria, porcentaje in porcentajes.head().items():
                print(f"{categoria}: {porcentaje:.2f}%")

    def distribucion_numerica_porcentil(self, columna):
        """
        Análisis de distribución numérica por percentiles

        Parámetros:
        -----------
        columna : str
            Nombre de la columna numérica
        """
        if self.df is None:
            return

        # Calcular percentiles
        percentiles = [0, 25, 50, 75, 90, 95, 99, 100]
        valores_percentiles = self.df[columna].quantile(
            [p/100 for p in percentiles]
        )

        # Visualización
        plt.figure(figsize=(12, 6))
        plt.boxplot(self.df[columna])
        plt.title(f'Distribución de {columna} con Percentiles')
        plt.ylabel(columna)
        plt.show()

        # Imprimir percentiles
        print(f"\n📈 Análisis de Percentiles para {columna}:")
        for percentil, valor in zip(percentiles, valores_percentiles):
            print(f"Percentil {percentil}%: {valor:.2f}")

def main():
    # Ruta de tu archivo CSV
    ruta_archivo = "Flight_Price_Dataset_of_Bangladesh.csv"

    # Crear instancia del analizador
    analizador = DistribucionPorcentajes(ruta_archivo)

    # Análisis de porcentajes para columnas categóricas
    analizador.porcentajes_categoricos('Airline', top_n=5)
    analizador.porcentajes_categoricos('Class')

    # Resumen porcentual general
    analizador.resumen_porcentual_general()

    # Análisis de distribución numérica por percentiles
    analizador.distribucion_numerica_porcentil('Total Fare (BDT)')

# Ejecutar script
if __name__ == "__main__":
    main()
